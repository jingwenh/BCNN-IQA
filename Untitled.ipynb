{
 "cells": [
  {
   "cell_type": "code",
   "execution_count": 1,
   "metadata": {
    "collapsed": false
   },
   "outputs": [
    {
     "name": "stderr",
     "output_type": "stream",
     "text": [
      "Using TensorFlow backend.\n"
     ]
    }
   ],
   "source": [
    "import tensorflow as tf\n",
    "from tensorflow.keras import layers,models\n",
    "from keras.preprocessing.image import ImageDataGenerator\n",
    "from keras.applications.inception_resnet_v2 import InceptionResNetV2\n",
    "from keras.preprocessing import image\n",
    "from keras.models import Model\n",
    "from keras.layers import Dense, GlobalAveragePooling2D\n",
    "from keras.layers import AveragePooling2D, Dense, Conv2D, Flatten, Dropout, Input, MaxPooling2D, Concatenate, GlobalMaxPooling2D, GlobalAveragePooling2D\n",
    "import pandas as pd\n",
    "import numpy as np\n",
    "from sklearn.model_selection import train_test_split\n",
    "from keras import backend as K\n",
    "from keras.applications.inception_resnet_v2 import InceptionResNetV2\n",
    "import data_preprocesser as preprocessor\n",
    "from data_loader import *\n",
    "from components import *"
   ]
  },
  {
   "cell_type": "code",
   "execution_count": 4,
   "metadata": {
    "collapsed": false
   },
   "outputs": [],
   "source": [
    "X, y = load_koniq()"
   ]
  },
  {
   "cell_type": "code",
   "execution_count": 5,
   "metadata": {
    "collapsed": false
   },
   "outputs": [
    {
     "data": {
      "text/plain": [
       "(100, 192, 256, 3)"
      ]
     },
     "execution_count": 5,
     "metadata": {},
     "output_type": "execute_result"
    }
   ],
   "source": [
    "X.shape"
   ]
  },
  {
   "cell_type": "code",
   "execution_count": 6,
   "metadata": {
    "collapsed": true
   },
   "outputs": [],
   "source": [
    "X_train, X_test, y_train, y_test = train_test_split(X, y, test_size=0.1, random_state=42)"
   ]
  },
  {
   "cell_type": "code",
   "execution_count": null,
   "metadata": {
    "collapsed": false
   },
   "outputs": [],
   "source": [
    "# # Training\n",
    "base_model = InceptionResNetV2(weights=\"imagenet\", include_top=False)\n",
    "# for layer in base_model.layers:\n",
    "#     layer.trainable = False"
   ]
  },
  {
   "cell_type": "code",
   "execution_count": null,
   "metadata": {
    "collapsed": false
   },
   "outputs": [],
   "source": [
    "x = Dropout(0.75)(base_model.output)\n",
    "x = Dense(100, activation='relu')(x)\n",
    "x = Dense(100, activation='relu')(x)\n",
    "x = Dense(5, activation='softmax')(x)\n",
    "model = Model(base_model.input, x)\n",
    "model.summary()"
   ]
  },
  {
   "cell_type": "code",
   "execution_count": 3,
   "metadata": {
    "collapsed": false
   },
   "outputs": [],
   "source": [
    "# Worked.\n",
    "# x = Input(shape=(768,1024,3))\n",
    "# a1 = Conv2D(50, kernel_size=7, activation='relu')(x)\n",
    "# a2 = Conv2D(50, kernel_size=7, activation='relu')(a1)\n",
    "# b1 = GlobalMaxPooling2D()(a2)\n",
    "# b2 = GlobalMinPooling2D()(a2)\n",
    "# b3 = GlobalAveragePooling2D()(a2)\n",
    "# m = Concatenate()([b1, b2, b3])\n",
    "# d1 = Dense(800, activation='relu')(m)\n",
    "# drop = Dropout(rate = 0.5)(d1)\n",
    "# d2 = Dense(800, activation='relu')(drop)\n",
    "# out = Dense(11, activation='softmax')(d2)\n",
    "# model = Model(inputs=x, outputs=out)\n",
    "# print(model.summary())"
   ]
  },
  {
   "cell_type": "code",
   "execution_count": null,
   "metadata": {
    "collapsed": false
   },
   "outputs": [],
   "source": [
    "#compile model using accuracy to measure model performance\n",
    "model.compile(optimizer='adam', loss=earth_mover_loss, metrics=['accuracy'])\n",
    "#train the model\n",
    "model.fit(X_train, y_train, validation_data=(X_test, y_test), epochs=10000)"
   ]
  },
  {
   "cell_type": "code",
   "execution_count": 18,
   "metadata": {
    "collapsed": false
   },
   "outputs": [],
   "source": [
    "import tensorflow as tf\n",
    "from keras.layers import Layer, Input, Reshape, Dense, Lambda, Activation\n",
    "import keras.backend as K\n",
    "import pandas as pd\n",
    "import numpy as np\n",
    "from keras.callbacks import ModelCheckpoint, TensorBoard, Callback\n",
    "from keras.layers import AveragePooling2D, Dense, Conv2D, Flatten, Dropout, Input, MaxPooling2D, Concatenate, GlobalMaxPooling2D, GlobalAveragePooling2D\n",
    "\n",
    "def huber_loss(y_true, y_pred, clip_delta=1/9):\n",
    "    error = y_true - y_pred\n",
    "    cond  = K.abs(error) < clip_delta\n",
    "\n",
    "    squared_loss = 0.5 * K.square(error)\n",
    "    linear_loss  = clip_delta * (K.abs(error) - 0.5 * clip_delta)\n",
    "\n",
    "    return K.mean(K.sum(tf.where(cond, squared_loss, linear_loss), axis=1))"
   ]
  },
  {
   "cell_type": "code",
   "execution_count": 19,
   "metadata": {
    "collapsed": true
   },
   "outputs": [],
   "source": [
    "a = K.cast_to_floatx(np.array([\n",
    "        [1, 2, 3],\n",
    "        [3, 2, 4]\n",
    "    ]))\n",
    "b = K.cast_to_floatx(np.array([\n",
    "        [3, 4, 3],\n",
    "        [1, 1, 4]\n",
    "    ]))"
   ]
  },
  {
   "cell_type": "code",
   "execution_count": 20,
   "metadata": {
    "collapsed": false
   },
   "outputs": [
    {
     "data": {
      "text/plain": [
       "array([0.43209878, 0.32098764], dtype=float32)"
      ]
     },
     "execution_count": 20,
     "metadata": {},
     "output_type": "execute_result"
    }
   ],
   "source": [
    "K.eval(huber_loss(a, b))"
   ]
  }
 ],
 "metadata": {
  "anaconda-cloud": {},
  "kernelspec": {
   "display_name": "keras-gpu",
   "language": "python",
   "name": "yolov2"
  },
  "language_info": {
   "codemirror_mode": {
    "name": "ipython",
    "version": 3
   },
   "file_extension": ".py",
   "mimetype": "text/x-python",
   "name": "python",
   "nbconvert_exporter": "python",
   "pygments_lexer": "ipython3",
   "version": "3.7.3"
  }
 },
 "nbformat": 4,
 "nbformat_minor": 2
}
